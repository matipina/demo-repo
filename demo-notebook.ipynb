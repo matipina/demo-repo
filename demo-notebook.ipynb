{
 "cells": [
  {
   "cell_type": "markdown",
   "id": "4cdfea15",
   "metadata": {},
   "source": [
    "# This is a demo"
   ]
  },
  {
   "cell_type": "code",
   "execution_count": 1,
   "id": "4ada4a2e",
   "metadata": {},
   "outputs": [
    {
     "name": "stdout",
     "output_type": "stream",
     "text": [
      "Hello!!!!\n"
     ]
    }
   ],
   "source": [
    "print('Hello!!!!')"
   ]
  },
  {
   "cell_type": "markdown",
   "id": "9c2f6ae1",
   "metadata": {},
   "source": [
    "# Interactive Visualization: Game of Thrones Seasons\n",
    "\n",
    "This section presents an interactive Plotly visualization showcasing all the seasons of Game of Thrones. The chart displays the number of episodes per season and the years they aired."
   ]
  },
  {
   "cell_type": "code",
   "execution_count": 2,
   "id": "85980d63",
   "metadata": {},
   "outputs": [
    {
     "ename": "ModuleNotFoundError",
     "evalue": "No module named 'plotly'",
     "output_type": "error",
     "traceback": [
      "\u001b[31m---------------------------------------------------------------------------\u001b[39m",
      "\u001b[31mModuleNotFoundError\u001b[39m                       Traceback (most recent call last)",
      "\u001b[36mCell\u001b[39m\u001b[36m \u001b[39m\u001b[32mIn[2]\u001b[39m\u001b[32m, line 2\u001b[39m\n\u001b[32m      1\u001b[39m \u001b[38;5;66;03m# Interactive Plotly visualization of Game of Thrones seasons\u001b[39;00m\n\u001b[32m----> \u001b[39m\u001b[32m2\u001b[39m \u001b[38;5;28;01mimport\u001b[39;00m\u001b[38;5;250m \u001b[39m\u001b[34;01mplotly\u001b[39;00m\u001b[34;01m.\u001b[39;00m\u001b[34;01mexpress\u001b[39;00m\u001b[38;5;250m \u001b[39m\u001b[38;5;28;01mas\u001b[39;00m\u001b[38;5;250m \u001b[39m\u001b[34;01mpx\u001b[39;00m\n\u001b[32m      3\u001b[39m \u001b[38;5;28;01mimport\u001b[39;00m\u001b[38;5;250m \u001b[39m\u001b[34;01mpandas\u001b[39;00m\u001b[38;5;250m \u001b[39m\u001b[38;5;28;01mas\u001b[39;00m\u001b[38;5;250m \u001b[39m\u001b[34;01mpd\u001b[39;00m\n\u001b[32m      5\u001b[39m \u001b[38;5;66;03m# Data for Game of Thrones seasons\u001b[39;00m\n",
      "\u001b[31mModuleNotFoundError\u001b[39m: No module named 'plotly'"
     ]
    }
   ],
   "source": [
    "# Interactive Plotly visualization of Game of Thrones seasons\n",
    "import plotly.express as px\n",
    "import pandas as pd\n",
    "\n",
    "# Data for Game of Thrones seasons\n",
    "seasons = [\n",
    "    {\"Season\": 1, \"Episodes\": 10, \"Year\": 2011},\n",
    "    {\"Season\": 2, \"Episodes\": 10, \"Year\": 2012},\n",
    "    {\"Season\": 3, \"Episodes\": 10, \"Year\": 2013},\n",
    "    {\"Season\": 4, \"Episodes\": 10, \"Year\": 2014},\n",
    "    {\"Season\": 5, \"Episodes\": 10, \"Year\": 2015},\n",
    "    {\"Season\": 6, \"Episodes\": 10, \"Year\": 2016},\n",
    "    {\"Season\": 7, \"Episodes\": 7,  \"Year\": 2017},\n",
    "    {\"Season\": 8, \"Episodes\": 6,  \"Year\": 2019},\n",
    "]\n",
    "df = pd.DataFrame(seasons)\n",
    "\n",
    "fig = px.bar(\n",
    "    df,\n",
    "    x=\"Season\",\n",
    "    y=\"Episodes\",\n",
    "    hover_data=[\"Year\"],\n",
    "    labels={\"Episodes\": \"Number of Episodes\", \"Season\": \"Season\"},\n",
    "    title=\"Game of Thrones: Episodes per Season\"\n",
    ")\n",
    "fig.update_layout(xaxis=dict(dtick=1))\n",
    "fig.show()"
   ]
  }
 ],
 "metadata": {
  "kernelspec": {
   "display_name": "data_viz",
   "language": "python",
   "name": "python3"
  },
  "language_info": {
   "codemirror_mode": {
    "name": "ipython",
    "version": 3
   },
   "file_extension": ".py",
   "mimetype": "text/x-python",
   "name": "python",
   "nbconvert_exporter": "python",
   "pygments_lexer": "ipython3",
   "version": "3.12.2"
  }
 },
 "nbformat": 4,
 "nbformat_minor": 5
}
